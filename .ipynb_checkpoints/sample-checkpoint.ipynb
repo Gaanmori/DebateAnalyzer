{
 "cells": [
  {
   "metadata": {},
   "cell_type": "markdown",
   "source": [
    "# This is a sample Jupyter Notebook\n",
    "\n",
    "Below is an example of a code cell. \n",
    "Put your cursor into the cell and press Shift+Enter to execute it and select the next one, or click !here goes the icon of the corresponding button in the gutter! button.\n",
    "To debug a cell, press Alt+Shift+Enter, or click !here goes the icon of the corresponding button in the gutter! button.\n",
    "\n",
    "Press Double Shift to search everywhere for classes, files, tool windows, actions, and settings.\n",
    "\n",
    "To learn more about Jupyter Notebooks in PyCharm, see [help](https://www.jetbrains.com/help/pycharm/jupyter-notebook-support.html).\n",
    "For an overview of PyCharm, go to Help -> Learn IDE features or refer to [our documentation](https://www.jetbrains.com/help/pycharm/getting-started.html)."
   ],
   "id": "8a77807f92f26ee"
  },
  {
   "metadata": {},
   "cell_type": "code",
   "outputs": [],
   "execution_count": null,
   "source": "",
   "id": "fbc121e30a2defb3"
  },
  {
   "metadata": {
    "ExecuteTime": {
     "end_time": "2025-01-18T01:29:44.876875Z",
     "start_time": "2025-01-18T01:29:43.447959Z"
    }
   },
   "cell_type": "code",
   "source": [
    "import re\n",
    "import spacy\n",
    "from collections import Counter\n",
    "\n",
    "# Función para contar la palabra \"entonces\"\n",
    "def contar_palabra_entonces(archivo):\n",
    "    try:\n",
    "        with open(archivo, 'r', encoding='utf-8') as file:\n",
    "            texto = file.read()\n",
    "        texto = texto.lower()\n",
    "        coincidencias = re.findall(r'\\bentonces\\b', texto)\n",
    "        return len(coincidencias)\n",
    "    except FileNotFoundError:\n",
    "        print(\"El archivo no se encontró. Asegúrate de que la ruta sea correcta.\")\n",
    "        return None\n",
    "\n",
    "# Función para identificar pronombres (correctos e incorrectos) y contar ocurrencias\n",
    "def identificar_pronombres_inclusivos(archivo):\n",
    "    try:\n",
    "        nlp = spacy.load(\"es_core_news_sm\")  # Cargamos el modelo en español\n",
    "        with open(archivo, 'r', encoding='utf-8') as file:\n",
    "            texto = file.read()\n",
    "\n",
    "        doc = nlp(texto)\n",
    "        pronombres_detectados = []\n",
    "\n",
    "        # Diccionario con pronombres correctos e incorrectos\n",
    "        pronombres = {\n",
    "            \"él\": [\"él\", \"el\"],\n",
    "            \"tú\": [\"tú\", \"tu\"],\n",
    "            \"nosotros\": [\"nosotros\", \"nosotrxs\", \"nosotres\"],\n",
    "            \"ustedes\": [\"ustedes\", \"ustedes\", \"ustedes\"],\n",
    "            \"ellos\": [\"ellos\", \"ellxs\", \"elles\"],\n",
    "            \"vosotros\": [\"vosotros\", \"vosotrxs\", \"vosotres\"],\n",
    "            \"ellas\": [\"ellas\", \"ellxs\"],\n",
    "        }\n",
    "\n",
    "        # Normalizar pronombres encontrados\n",
    "        for token in doc:\n",
    "            palabra = token.text.lower()\n",
    "            for pronombre_correcto, variantes in pronombres.items():\n",
    "                if palabra in variantes:\n",
    "                    pronombres_detectados.append(pronombre_correcto)\n",
    "\n",
    "        # Contamos ocurrencias únicas de cada pronombre\n",
    "        conteo_pronombres = Counter(pronombres_detectados)\n",
    "\n",
    "        return len(conteo_pronombres), conteo_pronombres\n",
    "    except FileNotFoundError:\n",
    "        print(\"El archivo no se encontró. Asegúrate de que la ruta sea correcta.\")\n",
    "        return None, Counter()\n",
    "\n",
    "# Nombre del archivo\n",
    "nombre_archivo = \"debate_presidencial.txt\"\n",
    "\n",
    "# Conteo de la palabra \"entonces\"\n",
    "cantidad_entonces = contar_palabra_entonces(nombre_archivo)\n",
    "\n",
    "# Identificación de pronombres (incluyendo variantes incorrectas)\n",
    "cantidad_pronombres_unicos, conteo_pronombres = identificar_pronombres_inclusivos(nombre_archivo)\n",
    "\n",
    "# Impresión de resultados\n",
    "print(\"### Lista de conteo de palabras ###\")\n",
    "if cantidad_entonces is not None:\n",
    "    print(f'Se repitió la palabra \"entonces\" {cantidad_entonces} veces.')\n",
    "\n",
    "print(\"\\n### Identificación de temas clave ###\")\n",
    "if cantidad_pronombres_unicos is not None:\n",
    "    print(f\"Se identificaron {cantidad_pronombres_unicos} pronombres inclusivos únicos (considerando variantes correctas e incorrectas).\")\n",
    "    for pronombre, cantidad in conteo_pronombres.items():\n",
    "        print(f'- {pronombre}: {cantidad} veces')\n"
   ],
   "id": "cfd054310803fcf7",
   "outputs": [
    {
     "name": "stdout",
     "output_type": "stream",
     "text": [
      "### Lista de conteo de palabras ###\n",
      "Se repitió la palabra \"entonces\" 3 veces.\n",
      "\n",
      "### Identificación de temas clave ###\n",
      "Se identificaron 6 pronombres inclusivos únicos (considerando variantes correctas e incorrectas).\n",
      "- ustedes: 29 veces\n",
      "- él: 358 veces\n",
      "- ellos: 4 veces\n",
      "- nosotros: 31 veces\n",
      "- ellas: 1 veces\n",
      "- tú: 1 veces\n"
     ]
    }
   ],
   "execution_count": 13
  },
  {
   "metadata": {
    "ExecuteTime": {
     "end_time": "2025-01-18T01:16:19.796593Z",
     "start_time": "2025-01-18T01:16:19.793588Z"
    }
   },
   "cell_type": "code",
   "source": "",
   "id": "d4fa994518d9e96f",
   "outputs": [],
   "execution_count": 8
  },
  {
   "metadata": {
    "ExecuteTime": {
     "end_time": "2025-01-18T01:16:22.298408Z",
     "start_time": "2025-01-18T01:16:22.296344Z"
    }
   },
   "cell_type": "code",
   "source": "",
   "id": "58aa47e30aad24b1",
   "outputs": [],
   "execution_count": 8
  },
  {
   "metadata": {},
   "cell_type": "code",
   "outputs": [],
   "execution_count": null,
   "source": "",
   "id": "b547af4e07a85e15"
  }
 ],
 "metadata": {
  "kernelspec": {
   "display_name": "Python 3",
   "language": "python",
   "name": "python3"
  },
  "language_info": {
   "codemirror_mode": {
    "name": "ipython",
    "version": 2
   },
   "file_extension": ".py",
   "mimetype": "text/x-python",
   "name": "python",
   "nbconvert_exporter": "python",
   "pygments_lexer": "ipython2",
   "version": "2.7.6"
  }
 },
 "nbformat": 4,
 "nbformat_minor": 5
}
